{
  "nbformat": 4,
  "nbformat_minor": 0,
  "metadata": {
    "colab": {
      "provenance": []
    },
    "kernelspec": {
      "name": "python3",
      "display_name": "Python 3"
    },
    "language_info": {
      "name": "python"
    }
  },
  "cells": [
    {
      "cell_type": "code",
      "execution_count": null,
      "metadata": {
        "colab": {
          "base_uri": "https://localhost:8080/"
        },
        "id": "TJP87-dQojmc",
        "outputId": "d9cbfbcd-789a-4188-c6e5-3fb915a5f485"
      },
      "outputs": [
        {
          "output_type": "stream",
          "name": "stdout",
          "text": [
            "\n",
            "🫖 Pasos para preparar un té\n",
            "\n",
            "1. Hervir el agua...\n",
            "2. Colocar la bolsa de té en la taza.\n",
            "3. Verter el agua caliente sobre la bolsa de té.\n",
            "4. Dejar reposar de 3 a 5 minutos (infusión).\n",
            "5. Retirar la bolsa de té.\n",
            "6. Agregar endulzantes o limón si se desea.\n",
            "7. ¡Listo! Disfruta tu té caliente con bolsa ☕\n"
          ]
        }
      ],
      "source": [
        "import time\n",
        "\n",
        "# Algoritmo para Preparar un Té - Definir las condiciones\n",
        "Agua_Caliente = True\n",
        "Bolsa_Caliente = True\n",
        "\n",
        "# Comprobar las condiciones antes de preparar el té\n",
        "if Agua_Caliente and Bolsa_Caliente:\n",
        "    def preparar_te():\n",
        "        print(\"\\n🫖 Pasos para preparar un té\\n\")\n",
        "        print(\"1. Hervir el agua...\")\n",
        "        time.sleep(2)  # Simula el tiempo para hervir\n",
        "        print(\"2. Colocar la bolsa de té en la taza.\")\n",
        "        time.sleep(1)\n",
        "        print(\"3. Verter el agua caliente sobre la bolsa de té.\")\n",
        "        time.sleep(1)\n",
        "        print(\"4. Dejar reposar de 3 a 5 minutos (infusión).\")\n",
        "        time.sleep(3)\n",
        "        print(\"5. Retirar la bolsa de té.\")\n",
        "        print(\"6. Agregar endulzantes o limón si se desea.\")\n",
        "        print(\"7. ¡Listo! Disfruta tu té caliente con bolsa ☕\")\n",
        "\n",
        "    # Ejecutar la función\n",
        "    preparar_te()\n",
        "else:\n",
        "    print(\"No se puede preparar el té. Asegúrate de tener agua caliente y una bolsa de té.\")"
      ]
    },
    {
      "cell_type": "code",
      "source": [
        "# Cálculo del Promedio de Notas\n",
        "# Paso 1: Pedir las 3 notas del estudiante como enteros\n",
        "nota1 = int(input(\"Ingrese la nota 1: \"))\n",
        "nota2 = int(input(\"Ingrese la nota 2: \"))\n",
        "nota3 = int(input(\"Ingrese la nota 3: \"))\n",
        "\n",
        "# Paso 2: Calcular la suma de las notas\n",
        "suma_notas = nota1 + nota2 + nota3\n",
        "\n",
        "# Paso 3: Calcular el promedio (puede tener decimales aunque las notas sean enteras)\n",
        "promedio = suma_notas / 3\n",
        "\n",
        "# Paso 4: Evaluar si aprueba o reprueba\n",
        "if promedio >= 3:\n",
        "    estado = \"Aprobó\"\n",
        "else:\n",
        "    estado = \"Reprobó\"\n",
        "\n",
        "# Paso 5: Mostrar resultados\n",
        "print(\"Notas del estudiante:\", nota1, nota2, nota3)\n",
        "print(\"Promedio de las notas:\", round(promedio, 2))\n",
        "print(\"Resultado final:\", estado)"
      ],
      "metadata": {
        "id": "jkbK1BQqwAi1"
      },
      "execution_count": null,
      "outputs": []
    },
    {
      "cell_type": "code",
      "source": [
        "# Verificar si un número es par o impar\n",
        "\n",
        "# Paso 1: Solicitar un número al usuario\n",
        "numero = int(input(\"🔢 Ingresa un número entero: \"))\n",
        "\n",
        "# Paso 2: Verificar si el número es divisible entre 2\n",
        "if numero % 2 == 0:\n",
        "    print(f\"✅ El número {numero} es PAR.\")\n",
        "else:\n",
        "    print(f\"🔶 El número {numero} es IMPAR.\")"
      ],
      "metadata": {
        "id": "xHR-4Yd_BIuo"
      },
      "execution_count": null,
      "outputs": []
    },
    {
      "cell_type": "code",
      "source": [
        "# Bucle for para Imprimir Números del 1 al 5\n",
        "# Imprimir los números del 1 al 5 y decir si son pares o impares\n",
        "\n",
        "print(\"🔁 Números del 1 al 5 con su clasificación:\\n\")\n",
        "\n",
        "# Paso 1: Bucle for para recorrer del 1 al 5\n",
        "for numero in range(1, 6):\n",
        "\n",
        "    # Paso 2: Verificar si el número es par o impar usando el operador %\n",
        "    if numero % 2 == 0:\n",
        "        tipo = \"PAR\"\n",
        "    else:\n",
        "        tipo = \"IMPAR\"\n",
        "\n",
        "    # Paso 3: Mostrar el número y su clasificación\n",
        "    print(f\"Número {numero} ➜ {tipo}\")"
      ],
      "metadata": {
        "id": "5rB6R8Mp3TgD"
      },
      "execution_count": null,
      "outputs": []
    },
    {
      "cell_type": "code",
      "source": [
        "# Convertir Grados Celsius a Fahrenheit\n",
        "# Paso 1: Definir la función para convertir Celsius a Fahrenheit\n",
        "def convertir_a_fahrenheit(celsius):\n",
        "    fahrenheit = (celsius * 9/5) + 32\n",
        "    return fahrenheit\n",
        "\n",
        "# Paso 2: Pedir al usuario que ingrese la temperatura en Celsius\n",
        "celsius = float(input(\"🌡️ Ingresa la temperatura en grados Celsius: \"))\n",
        "\n",
        "# Paso 3: Llamar a la función y mostrar el resultado\n",
        "resultado = convertir_a_fahrenheit(celsius)\n",
        "print(f\"{celsius}°C equivalen a {round(resultado, 2)}°F\")"
      ],
      "metadata": {
        "id": "MI4jhaSB8SCJ"
      },
      "execution_count": null,
      "outputs": []
    },
    {
      "cell_type": "code",
      "source": [
        "# Contar la Cantidad de Vocales en una Cadena de Texto\n",
        "# Paso 1: Pedir al usuario que ingrese una cadena de texto\n",
        "texto = input(\"Ingresa una cadena de texto: \")\n",
        "\n",
        "# Paso 2: Inicializar el contador de vocales\n",
        "vocales = \"aeiouAEIOU\"  # Consideramos tanto minúsculas como mayúsculas\n",
        "contador_vocales = 0\n",
        "\n",
        "# Paso 3: Recorrer cada carácter de la cadena con un bucle for\n",
        "for caracter in texto:\n",
        "    # Paso 4: Verificar si el carácter es una vocal\n",
        "    if caracter in vocales:\n",
        "        contador_vocales += 1\n",
        "\n",
        "# Paso 5: Mostrar el resultado\n",
        "print(f\"La cantidad de vocales en el texto es: {contador_vocales}\")"
      ],
      "metadata": {
        "id": "0Il2BAKoB7lK"
      },
      "execution_count": null,
      "outputs": []
    },
    {
      "cell_type": "code",
      "source": [
        "# Calcular el Factorial de un Número: Usar\n",
        "# Paso 1: Pedir al usuario que ingrese un número entero positivo\n",
        "numero = int(input(\"Ingresa un número entero positivo para calcular su factorial: \"))\n",
        "\n",
        "# Paso 2: Inicializar la variable para el cálculo del factorial\n",
        "factorial = 1\n",
        "\n",
        "# Paso 3: Usar un bucle while para calcular el factorial\n",
        "while numero > 1:\n",
        "    factorial *= numero  # Multiplicamos el número actual por el factorial\n",
        "    numero -= 1  # Reducimos el número en 1 en cada iteración\n",
        "\n",
        "# Paso 4: Mostrar el resultado\n",
        "print(f\"El factorial es: {factorial}\")"
      ],
      "metadata": {
        "id": "s92_i-rnCwM8"
      },
      "execution_count": null,
      "outputs": []
    }
  ]
}